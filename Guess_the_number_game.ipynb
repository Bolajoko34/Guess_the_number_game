{
 "cells": [
  {
   "cell_type": "markdown",
   "id": "abba8032-c449-4dc8-9a55-b4bc26126adb",
   "metadata": {},
   "source": [
    "## =====Guess The Number Game ====="
   ]
  },
  {
   "cell_type": "markdown",
   "id": "d397ac62-2a59-4c30-af3b-6f48adfdb896",
   "metadata": {},
   "source": [
    "-Conditional Statements/ Control Flow/Logical Statement\n",
    "\n",
    "-For loop\n",
    "\n",
    "-Funtions"
   ]
  },
  {
   "cell_type": "markdown",
   "id": "116b5224-6844-48b6-81c3-d6740b1518e3",
   "metadata": {},
   "source": [
    "## Conditional Statements"
   ]
  },
  {
   "cell_type": "markdown",
   "id": "d89962d0-11a4-4317-932c-dc946ed53c91",
   "metadata": {},
   "source": [
    "lets state the conditions.\n",
    "\n",
    "0-12 > Child\n",
    "\n",
    "13-19 > Teens\n",
    "\n",
    "20-35 > Young Adult or Youth\n",
    "\n",
    "36-50 > Adult or Middle Aged\n",
    "\n",
    "51 -Above > Senior Citizen or Elderly\n"
   ]
  },
  {
   "cell_type": "code",
   "execution_count": 8,
   "id": "ca5b394d-43b4-4662-a1d5-800eb4f8a96a",
   "metadata": {},
   "outputs": [],
   "source": [
    "age = 10"
   ]
  },
  {
   "cell_type": "code",
   "execution_count": 9,
   "id": "8ba2769f-62e8-4c4d-acaf-089d74d6f05a",
   "metadata": {},
   "outputs": [
    {
     "name": "stdout",
     "output_type": "stream",
     "text": [
      "Child\n"
     ]
    }
   ],
   "source": [
    "if 0<= age <=12:\n",
    "    print(\"Child\")\n",
    "elif 13 <= age <= 19:\n",
    "    print(\"Teens\")\n",
    "elif 20 <= age <= 35:\n",
    "    print(\"Young Adult or Youth\")\n",
    "elif 36 <= age <= 50:\n",
    "    print(\"Adult or Middle Aged\")\n",
    "else:\n",
    "    print(\"Senior Citizen or Elderly\")\n",
    "    "
   ]
  },
  {
   "cell_type": "markdown",
   "id": "aec29bc7-5de0-4236-a102-87a25ee1bdc6",
   "metadata": {},
   "source": [
    "## For Loops"
   ]
  },
  {
   "cell_type": "code",
   "execution_count": 2,
   "id": "db4ad38d-946d-4515-a2f8-0762d0b14ea8",
   "metadata": {},
   "outputs": [],
   "source": [
    "Wish_list =[\"Job\",\n",
    "            \"Husband\",\n",
    "            \"Kids\",\n",
    "            \"Dollars\",\n",
    "            \"Mansion\",\n",
    "            \"Scholarship\",\n",
    "            \"Cat\",\n",
    "            \"Vacation\",\n",
    "            \"Travel\",\n",
    "            \"Private Jet\",\n",
    "            \"Peace\"\n",
    "]"
   ]
  },
  {
   "cell_type": "code",
   "execution_count": 3,
   "id": "aca41c08-bdfb-4813-9e7d-f8c1e1990e66",
   "metadata": {},
   "outputs": [
    {
     "name": "stdout",
     "output_type": "stream",
     "text": [
      "['Job', 'Husband', 'Kids', 'Dollars', 'Mansion', 'Scholarship', 'Cat', 'Vacation', 'Travel', 'Private Jet', 'Peace']\n"
     ]
    }
   ],
   "source": [
    "print(Wish_list)"
   ]
  },
  {
   "cell_type": "code",
   "execution_count": 4,
   "id": "c16bf502-0f8d-41fe-8f61-6a2383eb1c0c",
   "metadata": {},
   "outputs": [
    {
     "data": {
      "text/plain": [
       "['Job',\n",
       " 'Husband',\n",
       " 'Kids',\n",
       " 'Dollars',\n",
       " 'Mansion',\n",
       " 'Scholarship',\n",
       " 'Cat',\n",
       " 'Vacation',\n",
       " 'Travel',\n",
       " 'Private Jet',\n",
       " 'Peace']"
      ]
     },
     "execution_count": 4,
     "metadata": {},
     "output_type": "execute_result"
    }
   ],
   "source": [
    "Wish_list"
   ]
  },
  {
   "cell_type": "code",
   "execution_count": 5,
   "id": "3d08969d-f3dd-47d0-8ea5-2b66122623ed",
   "metadata": {},
   "outputs": [
    {
     "data": {
      "text/plain": [
       "'Mansion'"
      ]
     },
     "execution_count": 5,
     "metadata": {},
     "output_type": "execute_result"
    }
   ],
   "source": [
    "Wish_list[4]"
   ]
  },
  {
   "cell_type": "code",
   "execution_count": 6,
   "id": "d9105f18-f584-44ad-ad83-0da909307a01",
   "metadata": {},
   "outputs": [
    {
     "name": "stdout",
     "output_type": "stream",
     "text": [
      "Job\n",
      "Husband\n",
      "Kids\n",
      "Dollars\n",
      "Mansion\n",
      "Scholarship\n",
      "Cat\n",
      "Vacation\n",
      "Travel\n",
      "Private Jet\n",
      "Peace\n"
     ]
    }
   ],
   "source": [
    "for Wish in Wish_list:\n",
    "    print(Wish)"
   ]
  },
  {
   "cell_type": "markdown",
   "id": "a8abf61b-756c-43c4-8d1d-59daf38a32c2",
   "metadata": {},
   "source": [
    "## Functions\n",
    "\n",
    "- View or print\n",
    "  \n",
    "- Withdraw or return\n",
    "\n",
    "  "
   ]
  },
  {
   "cell_type": "code",
   "execution_count": 7,
   "id": "bfbbeee0-3fc2-4b61-9ca2-64ba6c9f622f",
   "metadata": {},
   "outputs": [
    {
     "name": "stdout",
     "output_type": "stream",
     "text": [
      "Hello Bola ,hope you like python\n"
     ]
    }
   ],
   "source": [
    "print (\"Hello Bola ,hope you like python\")"
   ]
  },
  {
   "cell_type": "code",
   "execution_count": 9,
   "id": "a4cfbdc7-b497-4803-8706-ce87c326abbc",
   "metadata": {},
   "outputs": [],
   "source": [
    "def greeting(name):\n",
    "    print (\"Hello\",name ,\"hope you like python\")"
   ]
  },
  {
   "cell_type": "code",
   "execution_count": 11,
   "id": "63d879eb-3729-4141-85ec-a178a5416ad6",
   "metadata": {},
   "outputs": [
    {
     "name": "stdout",
     "output_type": "stream",
     "text": [
      "Hello Fusey hope you like python\n"
     ]
    }
   ],
   "source": [
    "greeting (\"Fusey\")"
   ]
  },
  {
   "cell_type": "code",
   "execution_count": 12,
   "id": "416b9a56-2532-45b3-90f6-377f0c396000",
   "metadata": {},
   "outputs": [
    {
     "name": "stdout",
     "output_type": "stream",
     "text": [
      "Hello Dennis hope you like python\n"
     ]
    }
   ],
   "source": [
    "greeting (\"Dennis\")"
   ]
  },
  {
   "cell_type": "code",
   "execution_count": 13,
   "id": "c41d7f8b-bba6-4af0-b9b0-fc18a5a2551e",
   "metadata": {},
   "outputs": [
    {
     "name": "stdout",
     "output_type": "stream",
     "text": [
      "Hello Ali hope you like python\n"
     ]
    }
   ],
   "source": [
    "greeting (\"Ali\")"
   ]
  },
  {
   "cell_type": "code",
   "execution_count": 15,
   "id": "c06d8c85-82fe-4973-a6cd-83dbce293780",
   "metadata": {},
   "outputs": [],
   "source": [
    "list_of_names = [\n",
    "    \"Fusey\",             \n",
    "    \"Dennis\",\n",
    "    \"Ali\",\n",
    "    \"Fuseina\",\n",
    "    \"Zuliaha\",\n",
    "    \"Abdul Sameed\",\n",
    "    \"Fusey\"\n",
    "]   "
   ]
  },
  {
   "cell_type": "code",
   "execution_count": 18,
   "id": "98d0a166-39c2-4653-9109-87959547460f",
   "metadata": {},
   "outputs": [
    {
     "name": "stdout",
     "output_type": "stream",
     "text": [
      "Hello Fusey hope you like python\n",
      "Hello DennisAliFuseina hope you like python\n",
      "Hello Ali hope you like python\n",
      "Hello Dennis hope you like python\n",
      "Hello Zuliaha hope you like python\n",
      "Hello Abdul Sameed hope you like python\n",
      "Hello Fusey hope you like python\n"
     ]
    }
   ],
   "source": [
    "for name in list_of_names:\n",
    "    greeting(name)"
   ]
  },
  {
   "cell_type": "code",
   "execution_count": 26,
   "id": "7d68421f-95f5-44c4-bf6c-1dff4401f524",
   "metadata": {},
   "outputs": [],
   "source": [
    "def subtraction(a,b):\n",
    "    subtract = a-b\n",
    "    return subtract"
   ]
  },
  {
   "cell_type": "code",
   "execution_count": 27,
   "id": "0e38a47e-58ee-4f61-844a-df4d805c5b04",
   "metadata": {},
   "outputs": [],
   "source": [
    "subtract_numbers = subtraction(10,9)"
   ]
  },
  {
   "cell_type": "code",
   "execution_count": 29,
   "id": "d5e8b8ef-92af-49c4-b5e8-f875e29ed0eb",
   "metadata": {},
   "outputs": [
    {
     "data": {
      "text/plain": [
       "1"
      ]
     },
     "execution_count": 29,
     "metadata": {},
     "output_type": "execute_result"
    }
   ],
   "source": [
    "subtract_numbers"
   ]
  },
  {
   "cell_type": "markdown",
   "id": "803fa2ae-5f9a-4c87-92d3-961341bc10f0",
   "metadata": {},
   "source": [
    "## Game On , Let have fun v1"
   ]
  },
  {
   "cell_type": "code",
   "execution_count": 30,
   "id": "18c15d24-e3cd-4566-9a88-4cfb476a2947",
   "metadata": {},
   "outputs": [
    {
     "name": "stdout",
     "output_type": "stream",
     "text": [
      "***** Guess the Game*****\n"
     ]
    }
   ],
   "source": [
    "print(\"***** Guess the Game*****\")"
   ]
  },
  {
   "cell_type": "code",
   "execution_count": 31,
   "id": "56b3672c-1427-47af-89c2-ebfe5ed9c232",
   "metadata": {},
   "outputs": [
    {
     "name": "stdout",
     "output_type": "stream",
     "text": [
      "\n",
      "***** Guess the Game*****\n"
     ]
    }
   ],
   "source": [
    "print(\"\\n***** Guess the Game*****\")"
   ]
  },
  {
   "cell_type": "code",
   "execution_count": 37,
   "id": "6d61d3b3-f5ab-4c7f-b0de-a79c463b5980",
   "metadata": {},
   "outputs": [],
   "source": [
    "secret_numbers = 7 # number between 1-10"
   ]
  },
  {
   "cell_type": "code",
   "execution_count": 45,
   "id": "eb990e03-f66a-42db-8a87-14418d61d1b0",
   "metadata": {},
   "outputs": [],
   "source": [
    "guess = 6"
   ]
  },
  {
   "cell_type": "code",
   "execution_count": 46,
   "id": "563dc47c-ed5d-4f64-8713-d4ea02fc653f",
   "metadata": {},
   "outputs": [
    {
     "name": "stdout",
     "output_type": "stream",
     "text": [
      "opp, too low guess a higher number\n"
     ]
    }
   ],
   "source": [
    "if guess == secret_numbers:\n",
    "    print(\"Hurray!!!\")\n",
    "elif  guess > secret_numbers:\n",
    "    print(\"opp, too high guess a lower number\")\n",
    "else: \n",
    "    print(\"opp, too low guess a higher number\")"
   ]
  },
  {
   "cell_type": "code",
   "execution_count": null,
   "id": "87220c7f-8a94-4d55-9436-095e00423fd0",
   "metadata": {},
   "outputs": [],
   "source": []
  },
  {
   "cell_type": "markdown",
   "id": "c750132e-c49f-4e5b-a10f-374f364dca06",
   "metadata": {},
   "source": [
    "## Limitations of the above version of the game\n",
    "\n",
    "-have to manually repeat number\n",
    "\n",
    "-not fun\n",
    "\n",
    "-secret_ number is not secret\n",
    "\n"
   ]
  },
  {
   "cell_type": "markdown",
   "id": "aa2634bd-8ca2-4722-a3cc-bb1a94e77bf7",
   "metadata": {},
   "source": [
    "## Make the secret number secret"
   ]
  },
  {
   "cell_type": "markdown",
   "id": "145750ec-aac0-47e5-b760-d9894d2dac6c",
   "metadata": {},
   "source": [
    "## Game On , Let have fun v2"
   ]
  },
  {
   "cell_type": "code",
   "execution_count": 48,
   "id": "be8cdf69-7130-45c6-9c76-77e2e72eb5e7",
   "metadata": {},
   "outputs": [],
   "source": [
    "import random"
   ]
  },
  {
   "cell_type": "code",
   "execution_count": 55,
   "id": "95f8bea1-c9ef-42d0-aea9-d33b05ab16f5",
   "metadata": {},
   "outputs": [],
   "source": [
    "secret_number = random.randint(1,10)"
   ]
  },
  {
   "cell_type": "code",
   "execution_count": 56,
   "id": "80250e58-edc6-4dfb-b8df-7cc8a46a6fbb",
   "metadata": {},
   "outputs": [],
   "source": [
    "guess =6"
   ]
  },
  {
   "cell_type": "code",
   "execution_count": 57,
   "id": "4d632ad7-9b8f-4cb8-a82e-d8c51751c35d",
   "metadata": {},
   "outputs": [
    {
     "name": "stdout",
     "output_type": "stream",
     "text": [
      "opp, too low guess a higher number\n"
     ]
    }
   ],
   "source": [
    "if guess == secret_numbers:\n",
    "    print(\"Hurray!!!\")\n",
    "elif  guess > secret_numbers:\n",
    "    print(\"opp, too high guess a lower number\")\n",
    "else: \n",
    "    print(\"opp, too low guess a higher number\")"
   ]
  },
  {
   "cell_type": "markdown",
   "id": "886e2a04-8fb7-4f5f-84c6-f4a55a597c58",
   "metadata": {},
   "source": [
    " - create a different funtion for a different section of the game\n",
    "\n",
    "- create  one function that contain the entire game\n"
   ]
  },
  {
   "cell_type": "code",
   "execution_count": 58,
   "id": "492bf9a6-e360-41c5-a658-c7c09d25f211",
   "metadata": {},
   "outputs": [],
   "source": [
    "name = \"Ali\"\n",
    "age = 45\n",
    "country =\"America\""
   ]
  },
  {
   "cell_type": "code",
   "execution_count": 59,
   "id": "f0e4e99a-287a-4788-b6b3-d93f247e02dc",
   "metadata": {},
   "outputs": [
    {
     "name": "stdout",
     "output_type": "stream",
     "text": [
      "Ali\n",
      "45\n",
      "America\n"
     ]
    }
   ],
   "source": [
    "print(name)\n",
    "print(age)\n",
    "print(country)"
   ]
  },
  {
   "cell_type": "code",
   "execution_count": 60,
   "id": "620c1de4-13c6-49ab-a8f9-6f2f6919a8e4",
   "metadata": {},
   "outputs": [
    {
     "name": "stdin",
     "output_type": "stream",
     "text": [
      " Fusey\n",
      " 35\n",
      " canada\n"
     ]
    }
   ],
   "source": [
    "name = input()\n",
    "age = input()\n",
    "country = input()"
   ]
  },
  {
   "cell_type": "markdown",
   "id": "4d387801-7967-4034-b7d2-a7b2b8517cea",
   "metadata": {},
   "source": [
    "## Game On , Let have fun v3"
   ]
  },
  {
   "cell_type": "code",
   "execution_count": 65,
   "id": "c87dfd00-24a6-4ba0-98b9-0d675d2d158b",
   "metadata": {},
   "outputs": [
    {
     "name": "stdout",
     "output_type": "stream",
     "text": [
      "\n",
      "***** Guess The Number Game *****\n",
      "\n",
      "I'm still thinking of a number between 1-10\n",
      "\n",
      "Try and guess the number\n",
      "\n"
     ]
    },
    {
     "name": "stdin",
     "output_type": "stream",
     "text": [
      " 4\n"
     ]
    },
    {
     "name": "stdout",
     "output_type": "stream",
     "text": [
      "opp, too low guess a higher number\n"
     ]
    }
   ],
   "source": [
    "print(\"\\n***** Guess The Number Game *****\")\n",
    "print(\"\\nI'm still thinking of a number between 1-10\")\n",
    "print(\"\\nTry and guess the number\")\n",
    "      \n",
    "secret_number = random.randint(1,10)\n",
    "\n",
    "guess = int(input())\n",
    "if guess == secret_numbers:\n",
    "    print(\"Hurray!!!\")\n",
    "elif  guess > secret_numbers:\n",
    "    print(\"opp, too high guess a lower number\")\n",
    "else: \n",
    "    print(\"opp, too low guess a higher number\")"
   ]
  },
  {
   "cell_type": "code",
   "execution_count": null,
   "id": "46d03b83-c2c2-4e03-9978-1bdba7ec32d3",
   "metadata": {},
   "outputs": [],
   "source": []
  },
  {
   "cell_type": "code",
   "execution_count": 66,
   "id": "cf4b075b-cea8-4d81-ab0a-f5367121e5f6",
   "metadata": {},
   "outputs": [
    {
     "name": "stdout",
     "output_type": "stream",
     "text": [
      "1\n",
      "2\n",
      "3\n",
      "4\n",
      "5\n",
      "6\n",
      "7\n",
      "8\n",
      "9\n",
      "10\n"
     ]
    }
   ],
   "source": [
    "list_of_numbers =[1,2,3,4,5,6,7,8,9,10]\n",
    "for numbers in list_of_numbers:\n",
    "    print(numbers)"
   ]
  },
  {
   "cell_type": "code",
   "execution_count": 67,
   "id": "278a4d98-46d2-45fb-9c4e-d8b8fcb063c1",
   "metadata": {},
   "outputs": [
    {
     "name": "stdout",
     "output_type": "stream",
     "text": [
      "1\n",
      "2\n",
      "3\n",
      "4\n",
      "5\n",
      "6\n",
      "7\n",
      "8\n",
      "9\n",
      "10\n"
     ]
    }
   ],
   "source": [
    "for num in range(1,11):\n",
    "    print(num)"
   ]
  },
  {
   "cell_type": "markdown",
   "id": "f20578f0-d398-406a-a12d-0c4583b37869",
   "metadata": {},
   "source": [
    "## Game On , Let have fun v4"
   ]
  },
  {
   "cell_type": "code",
   "execution_count": 77,
   "id": "bcda351c-7dec-4f28-bf1e-3468e80282fc",
   "metadata": {},
   "outputs": [
    {
     "name": "stdout",
     "output_type": "stream",
     "text": [
      "\n",
      "***** Guess The Number Game *****\n",
      "\n",
      "I'm still thinking of a number between 1-10\n",
      "\n",
      "Try and guess the number\n",
      "8\n",
      "\n"
     ]
    },
    {
     "name": "stdin",
     "output_type": "stream",
     "text": [
      " 8\n"
     ]
    },
    {
     "name": "stdout",
     "output_type": "stream",
     "text": [
      "opp, too high guess a lower number\n",
      "\n"
     ]
    },
    {
     "name": "stdin",
     "output_type": "stream",
     "text": [
      " 7\n"
     ]
    },
    {
     "name": "stdout",
     "output_type": "stream",
     "text": [
      "Hurray!!!\n"
     ]
    }
   ],
   "source": [
    "print(\"\\n***** Guess The Number Game *****\")\n",
    "print(\"\\nI'm still thinking of a number between 1-10\")\n",
    "print(\"\\nTry and guess the number\")\n",
    "      \n",
    "secret_number = random.randint(1,10)\n",
    "print(secret_number)\n",
    "for attempt in range (1,6):\n",
    "\n",
    "    print()\n",
    "    \n",
    "    guess = int(input())\n",
    "    if guess == secret_numbers:\n",
    "        print(\"Hurray!!!\")\n",
    "        break\n",
    "    elif  guess > secret_numbers:\n",
    "        print(\"opp, too high guess a lower number\")\n",
    "    else: \n",
    "        print(\"opp, too low guess a higher number\")"
   ]
  },
  {
   "cell_type": "code",
   "execution_count": null,
   "id": "eb69c0fe-d9cc-41b2-8a33-fd342ea9e9d2",
   "metadata": {},
   "outputs": [],
   "source": []
  },
  {
   "cell_type": "markdown",
   "id": "8ae4dd64-0c66-4f69-a446-54378611373d",
   "metadata": {},
   "source": [
    "## Game On , Let have fun v5\n",
    "# Create number of attempt"
   ]
  },
  {
   "cell_type": "code",
   "execution_count": 73,
   "id": "414650c3-58c1-4d1a-8c29-6af56a033c12",
   "metadata": {},
   "outputs": [
    {
     "name": "stdout",
     "output_type": "stream",
     "text": [
      "\n",
      "***** Guess The Number Game *****\n",
      "\n",
      "I'm still thinking of a number between 1-10\n",
      "\n",
      "Try and guess the number\n",
      "\n",
      " You have three attempt\n",
      "3\n",
      "\n"
     ]
    },
    {
     "name": "stdin",
     "output_type": "stream",
     "text": [
      " 7\n"
     ]
    },
    {
     "name": "stdout",
     "output_type": "stream",
     "text": [
      "Hurray!!!\n",
      "\n",
      " Game over  you have exhausted all attempt\n",
      "Secret number is: 3\n",
      "Try again\n"
     ]
    }
   ],
   "source": [
    "Game On , Let have fun v5\n",
    "      "
   ]
  },
  {
   "cell_type": "markdown",
   "id": "1522d0ef-8f30-4cbc-8ef9-d76b21199c9e",
   "metadata": {},
   "source": [
    "## Game On , Let have fun v6"
   ]
  },
  {
   "cell_type": "code",
   "execution_count": 79,
   "id": "c4ab1197-0963-4721-8be7-80dcff231a80",
   "metadata": {},
   "outputs": [],
   "source": [
    "def guess_the_number():\n",
    "    print(\"\\n***** Guess The Number Game *****\")\n",
    "    print(\"\\nI'm still thinking of a number between 1-10\")\n",
    "    print(\"\\nTry and guess the number\")\n",
    "          \n",
    "    secret_number = random.randint(1,10)\n",
    "    for attempt in range (1,6):\n",
    "    \n",
    "        print()\n",
    "        \n",
    "        guess = int(input())\n",
    "        if guess == secret_numbers:\n",
    "            print(\"Hurray!!!\")\n",
    "            return\n",
    "        elif  guess > secret_numbers:\n",
    "            print(\"opp, too high guess a lower number\")\n",
    "        else: \n",
    "            print(\"opp, too low guess a higher number\")"
   ]
  },
  {
   "cell_type": "code",
   "execution_count": 80,
   "id": "dbc9e2a8-5f8e-4143-ae1b-ef54918d7150",
   "metadata": {},
   "outputs": [
    {
     "name": "stdout",
     "output_type": "stream",
     "text": [
      "\n",
      "***** Guess The Number Game *****\n",
      "\n",
      "I'm still thinking of a number between 1-10\n",
      "\n",
      "Try and guess the number\n",
      "\n"
     ]
    },
    {
     "name": "stdin",
     "output_type": "stream",
     "text": [
      " 5\n"
     ]
    },
    {
     "name": "stdout",
     "output_type": "stream",
     "text": [
      "opp, too low guess a higher number\n",
      "\n"
     ]
    },
    {
     "name": "stdin",
     "output_type": "stream",
     "text": [
      " 2\n"
     ]
    },
    {
     "name": "stdout",
     "output_type": "stream",
     "text": [
      "opp, too low guess a higher number\n",
      "\n"
     ]
    },
    {
     "name": "stdin",
     "output_type": "stream",
     "text": [
      " 7\n"
     ]
    },
    {
     "name": "stdout",
     "output_type": "stream",
     "text": [
      "Hurray!!!\n"
     ]
    }
   ],
   "source": [
    "guess_the_number()"
   ]
  },
  {
   "cell_type": "code",
   "execution_count": null,
   "id": "e4a14e91-8223-4a77-8678-fa1ad201c741",
   "metadata": {},
   "outputs": [],
   "source": []
  }
 ],
 "metadata": {
  "kernelspec": {
   "display_name": "Python 3 (ipykernel)",
   "language": "python",
   "name": "python3"
  },
  "language_info": {
   "codemirror_mode": {
    "name": "ipython",
    "version": 3
   },
   "file_extension": ".py",
   "mimetype": "text/x-python",
   "name": "python",
   "nbconvert_exporter": "python",
   "pygments_lexer": "ipython3",
   "version": "3.12.11"
  }
 },
 "nbformat": 4,
 "nbformat_minor": 5
}
